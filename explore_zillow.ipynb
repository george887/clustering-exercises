{
 "cells": [
  {
   "cell_type": "markdown",
   "metadata": {},
   "source": [
    "## Zillow Dataset\n",
    "\n",
    "Create a python script or jupyter notebook named explore_zillow and do the following:\n",
    "\n",
    "1. Ask at least 5 questions about the data, keeping in mind that your target variable is logerror. e.g. Is logerror significantly different for properties in LA County vs Orange County vs Ventura County?\n",
    "\n",
    "2. Answer those questions through a mix of statistical tests and visualizations.\n",
    "\n",
    "In your exploration, be sure you include the following:\n",
    "\n",
    "1. a plot with at least 3 dimensions, such as x, y, and color.\n",
    "\n",
    "2. at least 3 different types of plots (like box, scatter, bar, ...)\n",
    "\n",
    "3. at least 2 statistical tests.\n",
    "\n",
    "4. document takeaways/conclusions after each question is addressed.\n",
    "\n"
   ]
  },
  {
   "cell_type": "code",
   "execution_count": null,
   "metadata": {},
   "outputs": [],
   "source": []
  }
 ],
 "metadata": {
  "kernelspec": {
   "display_name": "Python 3",
   "language": "python",
   "name": "python3"
  },
  "language_info": {
   "codemirror_mode": {
    "name": "ipython",
    "version": 3
   },
   "file_extension": ".py",
   "mimetype": "text/x-python",
   "name": "python",
   "nbconvert_exporter": "python",
   "pygments_lexer": "ipython3",
   "version": "3.7.6"
  }
 },
 "nbformat": 4,
 "nbformat_minor": 4
}
